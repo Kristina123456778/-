{
  "nbformat": 4,
  "nbformat_minor": 0,
  "metadata": {
    "colab": {
      "name": "Мои навыки_Петрова.ipynb",
      "provenance": [],
      "authorship_tag": "ABX9TyM98CkjzjwcPQGjnhl/LVPE",
      "include_colab_link": true
    },
    "kernelspec": {
      "name": "python3",
      "display_name": "Python 3"
    },
    "language_info": {
      "name": "python"
    }
  },
  "cells": [
    {
      "cell_type": "markdown",
      "metadata": {
        "id": "view-in-github",
        "colab_type": "text"
      },
      "source": [
        "<a href=\"https://colab.research.google.com/github/Kristina123456778/-/blob/main/%D0%9C%D0%BE%D0%B8_%D0%BD%D0%B0%D0%B2%D1%8B%D0%BA%D0%B8_%D0%9F%D0%B5%D1%82%D1%80%D0%BE%D0%B2%D0%B0.ipynb\" target=\"_parent\"><img src=\"https://colab.research.google.com/assets/colab-badge.svg\" alt=\"Open In Colab\"/></a>"
      ]
    },
    {
      "cell_type": "code",
      "source": [
        "%%html\n",
        "<iframe width='853' height='480' src='https://embed.coggle.it/diagram/YC4IxOANbSrVKSyk/74ce042e6a44cc05abd079a4dcbd06c651970e7d1d4a2f4365151685855f05bb' frameborder='0' allowfullscreen></iframe>\n"
      ],
      "metadata": {
        "colab": {
          "base_uri": "https://localhost:8080/",
          "height": 501
        },
        "id": "FRJWPq4bRTft",
        "outputId": "d5e1b50d-37d0-4cc4-de9b-eb32e7c31042"
      },
      "execution_count": 1,
      "outputs": [
        {
          "output_type": "display_data",
          "data": {
            "text/html": [
              "<iframe width='853' height='480' src='https://embed.coggle.it/diagram/YC4IxOANbSrVKSyk/74ce042e6a44cc05abd079a4dcbd06c651970e7d1d4a2f4365151685855f05bb' frameborder='0' allowfullscreen></iframe>"
            ],
            "text/plain": [
              "<IPython.core.display.HTML object>"
            ]
          },
          "metadata": {}
        }
      ]
    },
    {
      "cell_type": "markdown",
      "source": [
        "практическая "
      ],
      "metadata": {
        "id": "NC77C9cDSfXb"
      }
    },
    {
      "cell_type": "code",
      "source": [
        "%%html\n",
        "<a class=\"callout-link\" href=\"https://datastudio.google.com/embed/reporting/9f89d628-2eff-4d20-80de-30458bc34357/page/y7xaC\" target=\"_blank\" rel=\"noopener noreferrer\">https://datastudio.google.com/embed/reporting/9f89d628-2eff-4d20-80de-30458bc34357/page/y7xaC</a>"
      ],
      "metadata": {
        "colab": {
          "base_uri": "https://localhost:8080/",
          "height": 34
        },
        "id": "cc3kwugASjSr",
        "outputId": "6a7128d0-c9ed-46e6-a99e-6a65bfcfd3cb"
      },
      "execution_count": 2,
      "outputs": [
        {
          "output_type": "display_data",
          "data": {
            "text/html": [
              "<a class=\"callout-link\" href=\"https://datastudio.google.com/embed/reporting/9f89d628-2eff-4d20-80de-30458bc34357/page/y7xaC\" target=\"_blank\" rel=\"noopener noreferrer\">https://datastudio.google.com/embed/reporting/9f89d628-2eff-4d20-80de-30458bc34357/page/y7xaC</a>"
            ],
            "text/plain": [
              "<IPython.core.display.HTML object>"
            ]
          },
          "metadata": {}
        }
      ]
    },
    {
      "cell_type": "markdown",
      "source": [
        "Tutorials"
      ],
      "metadata": {
        "id": "RFtaQ7tLSyDD"
      }
    },
    {
      "cell_type": "code",
      "source": [
        "%%html\n",
        "<a class=\"callout-link\" href=\"https://docs.google.com/document/d/18T4ABdp0ZDN4TI0RA1wWPfZfLcupbUwOiSZocJDTebQ/edit?usp=sharing\" target=\"_blank\" rel=\"noopener noreferrer\">https://docs.google.com/document/d/18T4ABdp0ZDN4TI0RA1wWPfZfLcupbUwOiSZocJDTebQ/edit?usp=sharing</a>"
      ],
      "metadata": {
        "colab": {
          "base_uri": "https://localhost:8080/",
          "height": 34
        },
        "id": "4LyqtrLuTAnk",
        "outputId": "24419bb7-e7d2-4c89-b736-a5549ae35adf"
      },
      "execution_count": 3,
      "outputs": [
        {
          "output_type": "display_data",
          "data": {
            "text/html": [
              "<a class=\"callout-link\" href=\"https://docs.google.com/document/d/18T4ABdp0ZDN4TI0RA1wWPfZfLcupbUwOiSZocJDTebQ/edit?usp=sharing\" target=\"_blank\" rel=\"noopener noreferrer\">https://docs.google.com/document/d/18T4ABdp0ZDN4TI0RA1wWPfZfLcupbUwOiSZocJDTebQ/edit?usp=sharing</a>"
            ],
            "text/plain": [
              "<IPython.core.display.HTML object>"
            ]
          },
          "metadata": {}
        }
      ]
    },
    {
      "cell_type": "markdown",
      "source": [
        "Заявление практическая"
      ],
      "metadata": {
        "id": "UGDHXgt6TVZE"
      }
    },
    {
      "cell_type": "code",
      "source": [
        "%%html\n",
        "<a class=\"callout-link\" href=\"https://docs.google.com/document/d/1hFEmNFWenUbJhIRYgFSHXgRl6DipLTsB/edit?usp=sharing&amp;ouid=111870330719218721126&amp;rtpof=true&amp;sd=true\" target=\"_blank\" rel=\"noopener noreferrer\">https://docs.google.com/document/d/1hFEmNFWenUbJhIRYgFSHXgRl6DipLTsB/edit?usp=sharing&amp;ouid=111870330719218721126&amp;rtpof=true&amp;sd=true</a>"
      ],
      "metadata": {
        "colab": {
          "base_uri": "https://localhost:8080/",
          "height": 34
        },
        "id": "-I9p4u6nTWOi",
        "outputId": "dee3b969-b630-459b-bc2c-8d4ac22a087d"
      },
      "execution_count": 4,
      "outputs": [
        {
          "output_type": "display_data",
          "data": {
            "text/html": [
              "<a class=\"callout-link\" href=\"https://docs.google.com/document/d/1hFEmNFWenUbJhIRYgFSHXgRl6DipLTsB/edit?usp=sharing&amp;ouid=111870330719218721126&amp;rtpof=true&amp;sd=true\" target=\"_blank\" rel=\"noopener noreferrer\">https://docs.google.com/document/d/1hFEmNFWenUbJhIRYgFSHXgRl6DipLTsB/edit?usp=sharing&amp;ouid=111870330719218721126&amp;rtpof=true&amp;sd=true</a>"
            ],
            "text/plain": [
              "<IPython.core.display.HTML object>"
            ]
          },
          "metadata": {}
        }
      ]
    },
    {
      "cell_type": "markdown",
      "source": [
        "NSDP"
      ],
      "metadata": {
        "id": "-HyKuQsDTj96"
      }
    },
    {
      "cell_type": "code",
      "source": [
        "%%html\n",
        "<a class=\"callout-link\" href=\"https://datastudio.google.com/s/pw5RxMMXwFY\" target=\"_blank\" rel=\"noopener noreferrer\">https://datastudio.google.com/s/pw5RxMMXwFY</a>"
      ],
      "metadata": {
        "colab": {
          "base_uri": "https://localhost:8080/",
          "height": 34
        },
        "id": "f-3sPkt9Tk_b",
        "outputId": "cbc7aa8c-9007-4462-95c6-d3064f564c60"
      },
      "execution_count": 5,
      "outputs": [
        {
          "output_type": "display_data",
          "data": {
            "text/html": [
              "<a class=\"callout-link\" href=\"https://datastudio.google.com/s/pw5RxMMXwFY\" target=\"_blank\" rel=\"noopener noreferrer\">https://datastudio.google.com/s/pw5RxMMXwFY</a>"
            ],
            "text/plain": [
              "<IPython.core.display.HTML object>"
            ]
          },
          "metadata": {}
        }
      ]
    },
    {
      "cell_type": "markdown",
      "source": [
        "InternationReserveoftheRF"
      ],
      "metadata": {
        "id": "6TfArvH0Ttm6"
      }
    },
    {
      "cell_type": "code",
      "source": [
        "%%html\n",
        "<a class=\"callout-link\" href=\"https://datastudio.google.com/reporting/213816d4-eca7-4a5d-b32f-6a97373eea78\" target=\"_blank\" rel=\"noopener noreferrer\">https://datastudio.google.com/reporting/213816d4-eca7-4a5d-b32f-6a97373eea78</a>"
      ],
      "metadata": {
        "colab": {
          "base_uri": "https://localhost:8080/",
          "height": 34
        },
        "id": "-CkyT2vkT0Iy",
        "outputId": "830d722e-0b56-473d-89bb-28b66501d5ea"
      },
      "execution_count": 6,
      "outputs": [
        {
          "output_type": "display_data",
          "data": {
            "text/html": [
              "<a class=\"callout-link\" href=\"https://datastudio.google.com/reporting/213816d4-eca7-4a5d-b32f-6a97373eea78\" target=\"_blank\" rel=\"noopener noreferrer\">https://datastudio.google.com/reporting/213816d4-eca7-4a5d-b32f-6a97373eea78</a>"
            ],
            "text/plain": [
              "<IPython.core.display.HTML object>"
            ]
          },
          "metadata": {}
        }
      ]
    },
    {
      "cell_type": "markdown",
      "source": [
        "алгоритм Access"
      ],
      "metadata": {
        "id": "PcCs_L9LUbfJ"
      }
    },
    {
      "cell_type": "code",
      "source": [
        "%%html\n",
        "<a class=\"callout-link\" href=\"https://drive.google.com/file/d/1Bf7136KGEvCVYDG5xV1JND1-gHRmIeAY/view?usp=sharing\" target=\"_blank\" rel=\"noopener noreferrer\">https://drive.google.com/file/d/1Bf7136KGEvCVYDG5xV1JND1-gHRmIeAY/view?usp=sharing</a>\n"
      ],
      "metadata": {
        "colab": {
          "base_uri": "https://localhost:8080/",
          "height": 34
        },
        "id": "Ldj769N3UcfR",
        "outputId": "c099c697-0cc0-4173-9c4f-e600ff3de010"
      },
      "execution_count": 7,
      "outputs": [
        {
          "output_type": "display_data",
          "data": {
            "text/html": [
              "<a class=\"callout-link\" href=\"https://drive.google.com/file/d/1Bf7136KGEvCVYDG5xV1JND1-gHRmIeAY/view?usp=sharing\" target=\"_blank\" rel=\"noopener noreferrer\">https://drive.google.com/file/d/1Bf7136KGEvCVYDG5xV1JND1-gHRmIeAY/view?usp=sharing</a>"
            ],
            "text/plain": [
              "<IPython.core.display.HTML object>"
            ]
          },
          "metadata": {}
        }
      ]
    },
    {
      "cell_type": "markdown",
      "source": [
        "SEOquak_DataStudio"
      ],
      "metadata": {
        "id": "bBgdgZqaU5uX"
      }
    },
    {
      "cell_type": "code",
      "source": [
        "%%html\n",
        "<a class=\"callout-link\" href=\"https://datastudio.google.com/reporting/f4e80fb9-f277-45fb-9bf6-ec60d4bea2af\" target=\"_blank\" rel=\"noopener noreferrer\">https://datastudio.google.com/reporting/f4e80fb9-f277-45fb-9bf6-ec60d4bea2af</a>"
      ],
      "metadata": {
        "colab": {
          "base_uri": "https://localhost:8080/",
          "height": 34
        },
        "id": "JRT8aU2bU_4v",
        "outputId": "605a7f1e-0bf2-4099-8515-cafbcf95f4f3"
      },
      "execution_count": 8,
      "outputs": [
        {
          "output_type": "display_data",
          "data": {
            "text/html": [
              "<a class=\"callout-link\" href=\"https://datastudio.google.com/reporting/f4e80fb9-f277-45fb-9bf6-ec60d4bea2af\" target=\"_blank\" rel=\"noopener noreferrer\">https://datastudio.google.com/reporting/f4e80fb9-f277-45fb-9bf6-ec60d4bea2af</a>"
            ],
            "text/plain": [
              "<IPython.core.display.HTML object>"
            ]
          },
          "metadata": {}
        }
      ]
    },
    {
      "cell_type": "markdown",
      "source": [
        "тест"
      ],
      "metadata": {
        "id": "IZ5QRr-upWq5"
      }
    },
    {
      "cell_type": "code",
      "source": [
        "%%html\n",
        "<a class=\"callout-link\" href=\"https://docs.google.com/forms/d/10MCWtx-bQI4IF3WfTUt4zTSHo7g8lPRyZOyvHM9yb4U/edit?usp=sharing\" target=\"_blank\" rel=\"noopener noreferrer\">https://docs.google.com/forms/d/10MCWtx-bQI4IF3WfTUt4zTSHo7g8lPRyZOyvHM9yb4U/edit?usp=sharing</a>"
      ],
      "metadata": {
        "colab": {
          "base_uri": "https://localhost:8080/",
          "height": 34
        },
        "id": "uXAamMv1pgTN",
        "outputId": "3c744d56-b8cb-4f92-84c5-f400c0660660"
      },
      "execution_count": 14,
      "outputs": [
        {
          "output_type": "display_data",
          "data": {
            "text/html": [
              "<a class=\"callout-link\" href=\"https://docs.google.com/forms/d/10MCWtx-bQI4IF3WfTUt4zTSHo7g8lPRyZOyvHM9yb4U/edit?usp=sharing\" target=\"_blank\" rel=\"noopener noreferrer\">https://docs.google.com/forms/d/10MCWtx-bQI4IF3WfTUt4zTSHo7g8lPRyZOyvHM9yb4U/edit?usp=sharing</a>"
            ],
            "text/plain": [
              "<IPython.core.display.HTML object>"
            ]
          },
          "metadata": {}
        }
      ]
    }
  ]
}